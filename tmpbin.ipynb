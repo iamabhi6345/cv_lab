{
 "cells": [
  {
   "cell_type": "markdown",
   "metadata": {
    "id": "SkFlTMXM25jP"
   },
   "source": [
    "## Program 1: Image Representation"
   ]
  },
  {
   "cell_type": "code",
   "execution_count": null,
   "metadata": {
    "colab": {
     "base_uri": "https://localhost:8080/",
     "height": 518
    },
    "id": "M-qistZf22g_",
    "outputId": "98a94333-1922-48b4-d5ce-502646d7e256"
   },
   "outputs": [],
   "source": [
    "import numpy as np\n",
    "import matplotlib.pyplot as plt\n",
    "\n",
    "image = np.array([\n",
    "    [0, 64, 128, 192, 255],\n",
    "    [255, 192, 128, 264, 0],\n",
    "    [64, 128, 192, 255, 0],\n",
    "    [128, 192, 255, 0, 64],\n",
    "    [192, 255, 0, 64, 128]\n",
    "], dtype=np.uint8)\n",
    "\n",
    "plt.figure(figsize=(8, 4))\n",
    "plt.subplot(1, 2, 1)\n",
    "plt.imshow(image, cmap='gray', vmin=0, vmax=255)\n",
    "plt.axis(\"off\")\n",
    "plt.subplot(1, 2, 2)\n",
    "plt.hist(image.ravel(), bins=256, range=(0, 255), color='gray', alpha=0.7)\n",
    "plt.xlabel(\"Pixel Value\")\n",
    "plt.ylabel(\"Frequency\")\n",
    "plt.tight_layout()\n",
    "plt.show()\n"
   ]
  },
  {
   "cell_type": "code",
   "execution_count": null,
   "metadata": {
    "id": "9Xja2djG22j-"
   },
   "outputs": [],
   "source": [
    "numpy matplotlib scipy "
   ]
  },
  {
   "cell_type": "markdown",
   "metadata": {
    "id": "YIRvZMcT456D"
   },
   "source": [
    "## Program 2: Image Filtering"
   ]
  },
  {
   "cell_type": "code",
   "execution_count": null,
   "metadata": {
    "colab": {
     "base_uri": "https://localhost:8080/",
     "height": 371
    },
    "id": "_CZKypgO22m2",
    "outputId": "c2e1d040-bf84-4c4a-96c3-e51612e27fa3"
   },
   "outputs": [],
   "source": [
    "import numpy as np\n",
    "from scipy.ndimage import convolve\n",
    "import matplotlib.pyplot as plt\n",
    "\n",
    "image_with_edges = np.array([\n",
    "    [0, 0, 0, 255, 255],\n",
    "    [0, 0, 0, 255, 255],\n",
    "    [0, 0, 0, 255, 255],\n",
    "    [255, 255, 255, 0, 0],\n",
    "    [255, 255, 255, 0, 0]\n",
    "], dtype=np.uint8)\n",
    "\n",
    "average_filter = np.ones((3, 3)) / 9\n",
    "smoothed_image = convolve(image_with_edges, average_filter, mode='constant', cval=0)\n",
    "\n",
    "sobel_x = np.array([[-1, 0, 1], [-2, 0, 2], [-1, 0, 1]])\n",
    "sobel_y = np.array([[-1, -2, -1], [0, 0, 0], [1, 2, 1]])\n",
    "edges_x = convolve(image_with_edges, sobel_x, mode='constant', cval=0)\n",
    "edges_y = convolve(image_with_edges, sobel_y, mode='constant', cval=0)\n",
    "edge_magnitude = np.hypot(edges_x, edges_y)\n",
    "\n",
    "plt.figure(figsize=(12, 6))\n",
    "plt.subplot(1, 3, 1)\n",
    "plt.imshow(image_with_edges, cmap='gray')\n",
    "plt.title(\"Original Image\")\n",
    "plt.axis(\"off\")\n",
    "\n",
    "plt.subplot(1, 3, 2)\n",
    "plt.imshow(smoothed_image, cmap='gray')\n",
    "plt.title(\"Smoothed Image\")\n",
    "plt.axis(\"off\")\n",
    "\n",
    "plt.subplot(1, 3, 3)\n",
    "plt.imshow(edge_magnitude, cmap='gray')\n",
    "plt.title(\"Edge Magnitude (Sobel)\")\n",
    "plt.axis(\"off\")\n",
    "\n",
    "plt.tight_layout()\n",
    "plt.show()\n"
   ]
  },
  {
   "cell_type": "code",
   "execution_count": null,
   "metadata": {
    "id": "4zuDHpT622qA"
   },
   "outputs": [],
   "source": []
  },
  {
   "cell_type": "markdown",
   "metadata": {
    "id": "ptJZjnob8JEd"
   },
   "source": [
    "## Program 3  Thresholding"
   ]
  },
  {
   "cell_type": "code",
   "execution_count": null,
   "metadata": {
    "colab": {
     "base_uri": "https://localhost:8080/",
     "height": 371
    },
    "id": "g3popprr22sp",
    "outputId": "ee37a362-f916-4949-b7ff-27d644e7aa5d"
   },
   "outputs": [],
   "source": [
    "import numpy as np\n",
    "import matplotlib.pyplot as plt\n",
    "\n",
    "image = np.array([\n",
    "    [10, 50, 120, 130, 180, 200],\n",
    "    [20, 70, 100, 140, 190, 210],\n",
    "    [30, 80, 110, 150, 200, 220],\n",
    "    [40, 90, 115, 160, 210, 230],\n",
    "    [50, 100, 125, 170, 220, 240],\n",
    "    [60, 110, 130, 180, 230, 250]\n",
    "], dtype=np.uint8)\n",
    "\n",
    "threshold = 128\n",
    "global_thresholded = (image > threshold).astype(np.uint8) * 255\n",
    "\n",
    "def otsu_thresholding(img):\n",
    "    hist, bins = np.histogram(img.ravel(), bins=256, range=(0, 255))\n",
    "    total_pixels = img.size\n",
    "    sum_total = np.sum(np.arange(256) * hist)\n",
    "    sum_background, weight_background, weight_foreground = 0, 0, 0\n",
    "    max_variance, threshold = 0, 0\n",
    "    for t in range(256):\n",
    "        weight_background += hist[t]\n",
    "        if weight_background == 0:\n",
    "            continue\n",
    "        weight_foreground = total_pixels - weight_background\n",
    "        if weight_foreground == 0:\n",
    "            break\n",
    "        sum_background += t * hist[t]\n",
    "        mean_background = sum_background / weight_background\n",
    "        mean_foreground = (sum_total - sum_background) / weight_foreground\n",
    "        variance_between = weight_background * weight_foreground * (mean_background - mean_foreground) ** 2\n",
    "        if variance_between > max_variance:\n",
    "            max_variance = variance_between\n",
    "            threshold = t\n",
    "    return (img > threshold).astype(np.uint8) * 255\n",
    "\n",
    "otsu_thresholded = otsu_thresholding(image)\n",
    "\n",
    "plt.figure(figsize=(12, 8))\n",
    "plt.subplot(1, 3, 1)\n",
    "plt.imshow(image, cmap='gray')\n",
    "plt.title(\"Original Image\")\n",
    "plt.axis(\"off\")\n",
    "\n",
    "plt.subplot(1, 3, 2)\n",
    "plt.imshow(global_thresholded, cmap='gray')\n",
    "plt.title(\"Global Thresholding (T=128)\")\n",
    "plt.axis(\"off\")\n",
    "\n",
    "plt.subplot(1, 3, 3)\n",
    "plt.imshow(otsu_thresholded, cmap='gray')\n",
    "plt.title(\"Otsu's Thresholding\")\n",
    "plt.axis(\"off\")\n",
    "\n",
    "plt.tight_layout()\n",
    "plt.show()\n"
   ]
  },
  {
   "cell_type": "code",
   "execution_count": null,
   "metadata": {
    "id": "aVfvRuVi22vd"
   },
   "outputs": [],
   "source": []
  },
  {
   "cell_type": "markdown",
   "metadata": {
    "id": "wyxMoQbc8cWV"
   },
   "source": [
    "## Program 4: Morphological Operations"
   ]
  },
  {
   "cell_type": "code",
   "execution_count": null,
   "metadata": {
    "colab": {
     "base_uri": "https://localhost:8080/",
     "height": 363
    },
    "id": "rI0d-9Zg22yy",
    "outputId": "7192f0ff-de14-468d-8c2f-b717a6b5db2f"
   },
   "outputs": [],
   "source": [
    "import numpy as np\n",
    "import matplotlib.pyplot as plt\n",
    "from scipy.ndimage import binary_erosion, binary_dilation\n",
    "\n",
    "binary_image = np.array([\n",
    "    [0, 1, 1, 1, 0],\n",
    "    [1, 1, 1, 1, 1],\n",
    "    [1, 1, 1, 1, 1],\n",
    "    [1, 1, 1, 1, 1],\n",
    "    [0, 1, 1, 1, 0]\n",
    "], dtype=np.uint8)\n",
    "\n",
    "structuring_element = np.ones((3, 3), dtype=np.uint8)\n",
    "eroded_image = binary_erosion(binary_image, structure=structuring_element).astype(np.uint8)\n",
    "dilated_image = binary_dilation(binary_image, structure=structuring_element).astype(np.uint8)\n",
    "\n",
    "plt.figure(figsize=(12, 4))\n",
    "plt.subplot(1, 3, 1)\n",
    "plt.imshow(binary_image, cmap='gray')\n",
    "plt.title(\"Original Binary Image\")\n",
    "plt.axis(\"off\")\n",
    "\n",
    "plt.subplot(1, 3, 2)\n",
    "plt.imshow(eroded_image, cmap='gray')\n",
    "plt.title(\"Eroded Image\")\n",
    "plt.axis(\"off\")\n",
    "\n",
    "plt.subplot(1, 3, 3)\n",
    "plt.imshow(dilated_image, cmap='gray')\n",
    "plt.title(\"Dilated Image\")\n",
    "plt.axis(\"off\")\n",
    "\n",
    "plt.tight_layout()\n",
    "plt.show()\n"
   ]
  },
  {
   "cell_type": "code",
   "execution_count": null,
   "metadata": {
    "id": "hxaqClpD221j"
   },
   "outputs": [],
   "source": []
  },
  {
   "cell_type": "markdown",
   "metadata": {
    "id": "rFoo5d119BVY"
   },
   "source": [
    "## Program 5: Edge Detection"
   ]
  },
  {
   "cell_type": "code",
   "execution_count": null,
   "metadata": {
    "colab": {
     "base_uri": "https://localhost:8080/",
     "height": 371
    },
    "id": "iAA3PxeU224N",
    "outputId": "05e1d119-0c3e-4adc-a338-381587b63cc5"
   },
   "outputs": [],
   "source": [
    "import numpy as np\n",
    "import matplotlib.pyplot as plt\n",
    "from scipy.ndimage import convolve, gaussian_filter\n",
    "from skimage.feature import canny\n",
    "\n",
    "image = np.array([\n",
    "    [10, 50, 80, 60, 30, 10],\n",
    "    [90, 200, 180, 120, 70, 40],\n",
    "    [20, 60, 110, 160, 90, 50],\n",
    "    [40, 100, 140, 200, 130, 60],\n",
    "    [30, 80, 120, 150, 100, 70],\n",
    "    [10, 40, 60, 80, 90, 30]\n",
    "], dtype=np.uint8)\n",
    "\n",
    "sobel_x = np.array([[-1, 0, 1], [-2, 0, 2], [-1, 0, 1]])\n",
    "sobel_y = np.array([[-1, -2, -1], [0, 0, 0], [1, 2, 1]])\n",
    "edges_x = convolve(image, sobel_x, mode='constant', cval=0)\n",
    "edges_y = convolve(image, sobel_y, mode='constant', cval=0)\n",
    "sobel_edges = np.hypot(edges_x, edges_y)\n",
    "\n",
    "canny_edges = canny(image, sigma=1)\n",
    "\n",
    "plt.figure(figsize=(12, 6))\n",
    "plt.subplot(1, 3, 1)\n",
    "plt.imshow(image, cmap='gray')\n",
    "plt.title(\"Original Image\")\n",
    "plt.axis(\"off\")\n",
    "\n",
    "plt.subplot(1, 3, 2)\n",
    "plt.imshow(sobel_edges, cmap='gray')\n",
    "plt.title(\"Sobel Edge Detection\")\n",
    "plt.axis(\"off\")\n",
    "\n",
    "plt.subplot(1, 3, 3)\n",
    "plt.imshow(canny_edges, cmap='gray')\n",
    "plt.title(\"Canny Edge Detection\")\n",
    "plt.axis(\"off\")\n",
    "\n",
    "plt.tight_layout()\n",
    "plt.show()\n"
   ]
  },
  {
   "cell_type": "code",
   "execution_count": null,
   "metadata": {
    "id": "bv4ffQ662266"
   },
   "outputs": [],
   "source": []
  },
  {
   "cell_type": "markdown",
   "metadata": {
    "id": "7xYkyZDQ9RnK"
   },
   "source": [
    "## image transformation"
   ]
  },
  {
   "cell_type": "code",
   "execution_count": null,
   "metadata": {
    "colab": {
     "base_uri": "https://localhost:8080/",
     "height": 371
    },
    "id": "DKa8OeX1229c",
    "outputId": "38ae8b4b-d418-41c8-98ec-4eb0616a756e"
   },
   "outputs": [],
   "source": [
    "import numpy as np\n",
    "import matplotlib.pyplot as plt\n",
    "from scipy.ndimage import rotate, shift\n",
    "\n",
    "image = np.array([\n",
    "    [10, 50, 100, 150],\n",
    "    [20, 60, 110, 160],\n",
    "    [30, 70, 120, 170],\n",
    "    [40, 80, 130, 180]\n",
    "], dtype=np.uint8)\n",
    "\n",
    "rotated_image = rotate(image, 45, reshape=True)\n",
    "translated_image = shift(image, shift=(2, 2), mode='nearest')\n",
    "\n",
    "plt.figure(figsize=(12, 6))\n",
    "plt.subplot(1, 3, 1)\n",
    "plt.imshow(image, cmap='gray')\n",
    "plt.title(\"Original Image\")\n",
    "plt.axis(\"off\")\n",
    "\n",
    "plt.subplot(1, 3, 2)\n",
    "plt.imshow(rotated_image, cmap='gray')\n",
    "plt.title(\"Rotated Image (45 degrees)\")\n",
    "plt.axis(\"off\")\n",
    "\n",
    "plt.subplot(1, 3, 3)\n",
    "plt.imshow(translated_image, cmap='gray')\n",
    "plt.title(\"Translated Image (Shifted by 2 units)\")\n",
    "plt.axis(\"off\")\n",
    "\n",
    "plt.tight_layout()\n",
    "plt.show()\n"
   ]
  },
  {
   "cell_type": "code",
   "execution_count": null,
   "metadata": {
    "id": "ayp9VTzZ23AV"
   },
   "outputs": [],
   "source": []
  },
  {
   "cell_type": "markdown",
   "metadata": {
    "id": "Q1fUcY-695ch"
   },
   "source": [
    "## histogram equalisation"
   ]
  },
  {
   "cell_type": "code",
   "execution_count": null,
   "metadata": {
    "colab": {
     "base_uri": "https://localhost:8080/",
     "height": 607
    },
    "id": "ClJ-e-Kp23DE",
    "outputId": "a87b68e7-7c40-49f1-adef-210a175b3524"
   },
   "outputs": [],
   "source": [
    "import numpy as np\n",
    "import matplotlib.pyplot as plt\n",
    "from skimage import exposure\n",
    "\n",
    "image = np.array([\n",
    "    [20, 30, 50, 70, 90],\n",
    "    [30, 40, 60, 80, 100],\n",
    "    [40, 50, 70, 90, 110],\n",
    "    [50, 60, 80, 100, 120],\n",
    "    [60, 70, 90, 110, 130]\n",
    "], dtype=np.uint8)\n",
    "\n",
    "equalized_image = exposure.equalize_hist(image)\n",
    "\n",
    "plt.figure(figsize=(12, 6))\n",
    "plt.subplot(2, 2, 1)\n",
    "plt.imshow(image, cmap='gray')\n",
    "plt.title(\"Original Image\")\n",
    "plt.axis(\"off\")\n",
    "\n",
    "plt.subplot(2, 2, 2)\n",
    "plt.hist(image.ravel(), bins=256, range=(0, 255))\n",
    "plt.title(\"Original Histogram\")\n",
    "\n",
    "plt.subplot(2, 2, 3)\n",
    "plt.imshow(equalized_image, cmap='gray')\n",
    "plt.title(\"Equalized Image\")\n",
    "plt.axis(\"off\")\n",
    "\n",
    "plt.subplot(2, 2, 4)\n",
    "plt.hist(equalized_image.ravel(), bins=256, range=(0, 1))\n",
    "plt.title(\"Equalized Histogram\")\n",
    "\n",
    "plt.tight_layout()\n",
    "plt.show()\n"
   ]
  },
  {
   "cell_type": "code",
   "execution_count": null,
   "metadata": {
    "id": "8_J6UZ6D23Fj"
   },
   "outputs": [],
   "source": []
  },
  {
   "cell_type": "markdown",
   "metadata": {
    "id": "JC72Rh9C-BXa"
   },
   "source": [
    "## feature detection haris corner"
   ]
  },
  {
   "cell_type": "code",
   "execution_count": null,
   "metadata": {
    "colab": {
     "base_uri": "https://localhost:8080/",
     "height": 521
    },
    "id": "9jqAD6_Z23Im",
    "outputId": "f62bd09c-fa3c-46be-f208-ec506bd794d2"
   },
   "outputs": [],
   "source": [
    "import numpy as np\n",
    "import matplotlib.pyplot as plt\n",
    "from skimage.feature import corner_harris, corner_peaks\n",
    "\n",
    "binary_image = np.array([\n",
    "    [0, 0, 0, 0, 0, 0],\n",
    "    [0, 1, 1, 1, 0, 0],\n",
    "    [0, 1, 0, 1, 0, 0],\n",
    "    [0, 1, 1, 1, 0, 0],\n",
    "    [0, 0, 0, 0, 0, 0],\n",
    "    [0, 0, 0, 0, 0, 0]\n",
    "], dtype=np.uint8)\n",
    "\n",
    "corners = corner_harris(binary_image)\n",
    "corner_coords = corner_peaks(corners, min_distance=1)\n",
    "\n",
    "plt.figure(figsize=(6, 6))\n",
    "plt.imshow(binary_image, cmap='gray')\n",
    "plt.scatter(corner_coords[:, 1], corner_coords[:, 0], color='red', s=50, label='Corners')\n",
    "plt.title(\"Binary Image with Detected Corners\")\n",
    "plt.axis(\"off\")\n",
    "plt.legend()\n",
    "plt.show()\n"
   ]
  },
  {
   "cell_type": "code",
   "execution_count": null,
   "metadata": {
    "id": "JQimim9o23LQ"
   },
   "outputs": [],
   "source": []
  },
  {
   "cell_type": "markdown",
   "metadata": {
    "id": "5Ba3G15B-gBB"
   },
   "source": [
    "## Object Detection using Contours\n"
   ]
  },
  {
   "cell_type": "code",
   "execution_count": null,
   "metadata": {
    "colab": {
     "base_uri": "https://localhost:8080/",
     "height": 675
    },
    "id": "08UbcgsI23OY",
    "outputId": "3ad1efbc-c50e-4315-cd7f-867a24568aac"
   },
   "outputs": [],
   "source": [
    "import numpy as np\n",
    "import matplotlib.pyplot as plt\n",
    "from skimage.measure import find_contours\n",
    "\n",
    "image = np.array([\n",
    "    [0, 0, 0, 0, 0, 0, 0, 0, 0, 0],\n",
    "    [0, 0, 1, 1, 1, 0, 0, 0, 0, 0],\n",
    "    [0, 0, 1, 0, 1, 0, 0, 0, 0, 0],\n",
    "    [0, 0, 1, 1, 1, 0, 0, 0, 1, 1],\n",
    "    [0, 0, 0, 0, 0, 0, 0, 0, 1, 1],\n",
    "    [0, 0, 0, 0, 0, 0, 0, 0, 1, 1],\n",
    "    [0, 1, 1, 1, 0, 0, 0, 0, 1, 1],\n",
    "    [0, 1, 0, 1, 0, 0, 0, 0, 0, 0],\n",
    "    [0, 1, 1, 1, 0, 0, 0, 0, 0, 0],\n",
    "    [0, 0, 0, 0, 0, 0, 0, 0, 0, 0]\n",
    "], dtype=np.uint8)\n",
    "\n",
    "contours = find_contours(image, level=0.5)\n",
    "\n",
    "plt.figure(figsize=(8, 8))\n",
    "plt.imshow(image, cmap='gray')\n",
    "for i, contour in enumerate(contours):\n",
    "    plt.plot(contour[:, 1], contour[:, 0], linewidth=2, label=f'Contour {i+1}')\n",
    "plt.title(\"Contours Detected\")\n",
    "plt.legend()\n",
    "plt.axis(\"off\")\n",
    "plt.show()\n"
   ]
  },
  {
   "cell_type": "code",
   "execution_count": null,
   "metadata": {
    "id": "zce0FfJC23RW"
   },
   "outputs": [],
   "source": []
  },
  {
   "cell_type": "markdown",
   "metadata": {
    "id": "kxHinlN9-y3i"
   },
   "source": [
    "## optical flow"
   ]
  },
  {
   "cell_type": "code",
   "execution_count": null,
   "metadata": {
    "colab": {
     "base_uri": "https://localhost:8080/",
     "height": 675
    },
    "id": "m1LhjqCJ23UP",
    "outputId": "0faf562a-010a-41ec-964f-5a0bde091384"
   },
   "outputs": [],
   "source": [
    "import numpy as np\n",
    "import matplotlib.pyplot as plt\n",
    "from skimage.feature import corner_harris, corner_peaks\n",
    "\n",
    "image1 = np.array([\n",
    "    [0, 0, 0, 0, 0],\n",
    "    [0, 255, 255, 0, 0],\n",
    "    [0, 255, 255, 0, 0],\n",
    "    [0, 0, 0, 0, 0],\n",
    "    [0, 0, 0, 0, 0]\n",
    "], dtype=np.float32)\n",
    "\n",
    "image2 = np.array([\n",
    "    [0, 0, 0, 0, 0],\n",
    "    [0, 0, 255, 255, 0],\n",
    "    [0, 0, 255, 255, 0],\n",
    "    [0, 0, 0, 0, 0],\n",
    "    [0, 0, 0, 0, 0]\n",
    "], dtype=np.float32)\n",
    "\n",
    "Ix = np.gradient(image1, axis=1)\n",
    "Iy = np.gradient(image1, axis=0)\n",
    "It = image2 - image1\n",
    "\n",
    "window_size = 3\n",
    "half_window = window_size // 2\n",
    "u = np.zeros_like(image1)\n",
    "v = np.zeros_like(image1)\n",
    "\n",
    "for y in range(half_window, image1.shape[0] - half_window):\n",
    "    for x in range(half_window, image1.shape[1] - half_window):\n",
    "        Ix_window = Ix[y - half_window:y + half_window + 1, x - half_window:x + half_window + 1].flatten()\n",
    "        Iy_window = Iy[y - half_window:y + half_window + 1, x - half_window:x + half_window + 1].flatten()\n",
    "        It_window = It[y - half_window:y + half_window + 1, x - half_window:x + half_window + 1].flatten()\n",
    "        A = np.vstack((Ix_window, Iy_window)).T\n",
    "        b = -It_window\n",
    "        nu = np.linalg.pinv(A.T @ A) @ A.T @ b if np.linalg.det(A.T @ A) > 1e-2 else np.array([0, 0])\n",
    "        u[y, x], v[y, x] = nu\n",
    "\n",
    "plt.figure(figsize=(8, 8))\n",
    "plt.imshow(image2, cmap='gray')\n",
    "for y in range(0, image2.shape[0], 1):\n",
    "    for x in range(0, image2.shape[1], 1):\n",
    "        plt.arrow(x, y, v[y, x], u[y, x], color='red', head_width=0.1, head_length=0.1)\n",
    "plt.title(\"Optical Flow Vectors\")\n",
    "plt.axis(\"off\")\n",
    "plt.show()\n"
   ]
  },
  {
   "cell_type": "code",
   "execution_count": null,
   "metadata": {
    "id": "wKC6CDEF23XA"
   },
   "outputs": [],
   "source": []
  },
  {
   "cell_type": "code",
   "execution_count": null,
   "metadata": {
    "id": "INfE94Sf23Zw"
   },
   "outputs": [],
   "source": []
  },
  {
   "cell_type": "code",
   "execution_count": null,
   "metadata": {
    "id": "FVIMcwrb23cZ"
   },
   "outputs": [],
   "source": []
  },
  {
   "cell_type": "code",
   "execution_count": null,
   "metadata": {
    "id": "mWsKzmqg23fn"
   },
   "outputs": [],
   "source": []
  },
  {
   "cell_type": "code",
   "execution_count": null,
   "metadata": {
    "id": "arrh_YLS23i8"
   },
   "outputs": [],
   "source": []
  },
  {
   "cell_type": "markdown",
   "metadata": {
    "id": "xOFra4Z2_oo5"
   },
   "source": [
    "## 8_4_points"
   ]
  },
  {
   "cell_type": "code",
   "execution_count": null,
   "metadata": {
    "colab": {
     "base_uri": "https://localhost:8080/",
     "height": 1000
    },
    "id": "NFfQw2Ox_qOm",
    "outputId": "f1da1842-0c5a-4f9b-af25-fa472a764688"
   },
   "outputs": [],
   "source": [
    "import numpy as np\n",
    "import matplotlib.pyplot as plt\n",
    "\n",
    "def find_neighbors():\n",
    "    center = (2, 2)\n",
    "    four_connected = [\n",
    "        (center[0] - 1, center[1]),\n",
    "        (center[0] + 1, center[1]),\n",
    "        (center[0], center[1] - 1),\n",
    "        (center[0], center[1] + 1)\n",
    "    ]\n",
    "    eight_connected = four_connected + [\n",
    "        (center[0] - 1, center[1] - 1),\n",
    "        (center[0] - 1, center[1] + 1),\n",
    "        (center[0] + 1, center[1] - 1),\n",
    "        (center[0] + 1, center[1] + 1)\n",
    "    ]\n",
    "    return center, four_connected, eight_connected\n",
    "\n",
    "def show_neighbors(center, neighbors, neighbor_type):\n",
    "    grid = np.zeros((5, 5))\n",
    "    grid[center] = 2\n",
    "    for i, j in neighbors:\n",
    "        grid[i, j] = 1\n",
    "    fig, ax = plt.subplots(figsize=(5, 5))\n",
    "    ax.imshow(grid, cmap='Pastel1', vmin=0, vmax=2)\n",
    "    for i in range(5):\n",
    "        for j in range(5):\n",
    "            if grid[i, j] == 2:\n",
    "                ax.text(j, i, 'Center', ha='center', va='center', color='black')\n",
    "            elif grid[i, j] == 1:\n",
    "                ax.text(j, i, neighbor_type, ha='center', va='center', color='blue' if neighbor_type == \"4\" else 'green')\n",
    "    plt.title(f\"{neighbor_type}-Connected Neighbors\")\n",
    "    ax.axis('off')\n",
    "    plt.show()\n",
    "    print(f\"\\nCoordinates of {neighbor_type}-connected neighbors:\")\n",
    "    for coord in neighbors:\n",
    "        print(coord)\n",
    "\n",
    "center, four_connected, eight_connected = find_neighbors()\n",
    "print(\"Displaying 4-Connected Neighbors:\")\n",
    "show_neighbors(center, four_connected, neighbor_type=\"4\")\n",
    "print(\"Displaying 8-Connected Neighbors:\")\n",
    "show_neighbors(center, eight_connected, neighbor_type=\"8\")\n"
   ]
  },
  {
   "cell_type": "code",
   "execution_count": null,
   "metadata": {
    "id": "mrl5uC3s_qqZ"
   },
   "outputs": [],
   "source": []
  },
  {
   "cell_type": "code",
   "execution_count": null,
   "metadata": {
    "id": "uq8qrydtAEoS"
   },
   "outputs": [],
   "source": []
  },
  {
   "cell_type": "markdown",
   "metadata": {
    "id": "6GuK6_BsAifa"
   },
   "source": [
    "## color image p[rocessing"
   ]
  },
  {
   "cell_type": "code",
   "execution_count": null,
   "metadata": {
    "colab": {
     "base_uri": "https://localhost:8080/",
     "height": 518
    },
    "id": "RnrCKomSAElu",
    "outputId": "4b488959-e447-4501-9a2a-f590b9b70ec0"
   },
   "outputs": [],
   "source": [
    "import cv2\n",
    "import numpy as np\n",
    "import matplotlib.pyplot as plt\n",
    "\n",
    "img = cv2.imread('a.jpg')\n",
    "\n",
    "if img is None:\n",
    "    print(\"Error: Image not found or unable to load.\")\n",
    "else:\n",
    "    img_rgb = cv2.cvtColor(img, cv2.COLOR_BGR2RGB)\n",
    "    red_channel = img_rgb[:, :, 0]\n",
    "    green_channel = img_rgb[:, :, 1]\n",
    "    blue_channel = img_rgb[:, :, 2]\n",
    "    img_hsv = cv2.cvtColor(img, cv2.COLOR_BGR2HSV)\n",
    "    img_lab = cv2.cvtColor(img, cv2.COLOR_BGR2Lab)\n",
    "    brightness_increase = 50\n",
    "    img_brightened = np.clip(img_rgb + brightness_increase, 0, 255).astype(np.uint8)\n",
    "\n",
    "    plt.figure(figsize=(12, 8))\n",
    "    plt.subplot(2, 3, 1)\n",
    "    plt.title(\"Original RGB Image\")\n",
    "    plt.imshow(img_rgb)\n",
    "    plt.axis(\"off\")\n",
    "    plt.subplot(2, 3, 2)\n",
    "    plt.title(\"Red Channel\")\n",
    "    plt.imshow(red_channel, cmap='Reds')\n",
    "    plt.axis(\"off\")\n",
    "    plt.subplot(2, 3, 3)\n",
    "    plt.title(\"Green Channel\")\n",
    "    plt.imshow(green_channel, cmap='Greens')\n",
    "    plt.axis(\"off\")\n",
    "    plt.subplot(2, 3, 4)\n",
    "    plt.title(\"Blue Channel\")\n",
    "    plt.imshow(blue_channel, cmap='Blues')\n",
    "    plt.axis(\"off\")\n",
    "    plt.subplot(2, 3, 5)\n",
    "    plt.title(\"Brightened Image\")\n",
    "    plt.imshow(img_brightened)\n",
    "    plt.axis(\"off\")\n",
    "    img_hsv_rgb = cv2.cvtColor(img_hsv, cv2.COLOR_HSV2RGB)\n",
    "    plt.subplot(2, 3, 6)\n",
    "    plt.title(\"HSV Image\")\n",
    "    plt.imshow(img_hsv_rgb)\n",
    "    plt.axis(\"off\")\n",
    "    plt.tight_layout()\n",
    "    plt.show()\n"
   ]
  },
  {
   "cell_type": "code",
   "execution_count": null,
   "metadata": {
    "id": "Z_f31peRAEjP"
   },
   "outputs": [],
   "source": []
  },
  {
   "cell_type": "code",
   "execution_count": null,
   "metadata": {
    "id": "r9peCWwLAEg3"
   },
   "outputs": [],
   "source": []
  },
  {
   "cell_type": "markdown",
   "metadata": {
    "id": "K8jKt8GxA7YB"
   },
   "source": [
    "## convolution correlation"
   ]
  },
  {
   "cell_type": "code",
   "execution_count": null,
   "metadata": {
    "colab": {
     "base_uri": "https://localhost:8080/",
     "height": 232
    },
    "id": "1gefoDMNAEeG",
    "outputId": "120136d8-342c-49cd-b076-4e78746e0718"
   },
   "outputs": [],
   "source": [
    "import cv2\n",
    "import numpy as np\n",
    "import matplotlib.pyplot as plt\n",
    "\n",
    "img = cv2.imread('a.jpg', cv2.IMREAD_GRAYSCALE)\n",
    "\n",
    "if img is None:\n",
    "    print(\"Error: Image not found or unable to load.\")\n",
    "else:\n",
    "    kernel = np.array([[1, 1, 1],\n",
    "                       [1, -7, 1],\n",
    "                       [1, 1, 1]])\n",
    "\n",
    "    def correlation(image, kernel):\n",
    "        kernel_height, kernel_width = kernel.shape\n",
    "        image_height, image_width = image.shape\n",
    "        output = np.zeros_like(image)\n",
    "        for i in range(kernel_height // 2, image_height - kernel_height // 2):\n",
    "            for j in range(kernel_width // 2, image_width - kernel_width // 2):\n",
    "                region = image[i - kernel_height // 2:i + kernel_height // 2 + 1,\n",
    "                               j - kernel_width // 2:j + kernel_width // 2 + 1]\n",
    "                output[i, j] = np.sum(region * kernel)\n",
    "        return output\n",
    "\n",
    "    def convolution(image, kernel):\n",
    "        kernel_flipped = np.flipud(np.fliplr(kernel))\n",
    "        return correlation(image, kernel_flipped)\n",
    "\n",
    "    correlation_result = correlation(img, kernel)\n",
    "    convolution_result = convolution(img, kernel)\n",
    "\n",
    "    plt.figure(figsize=(12, 6))\n",
    "    plt.subplot(1, 3, 1)\n",
    "    plt.title(\"Original Image\")\n",
    "    plt.imshow(img, cmap='gray')\n",
    "    plt.axis('off')\n",
    "    plt.subplot(1, 3, 2)\n",
    "    plt.title(\"Correlation Result\")\n",
    "    plt.imshow(correlation_result, cmap='gray')\n",
    "    plt.axis('off')\n",
    "    plt.subplot(1, 3, 3)\n",
    "    plt.title(\"Convolution Result\")\n",
    "    plt.imshow(convolution_result, cmap='gray')\n",
    "    plt.axis('off')\n",
    "    plt.tight_layout()\n",
    "    plt.show()\n"
   ]
  },
  {
   "cell_type": "code",
   "execution_count": null,
   "metadata": {
    "id": "qirAkXyZAEbb"
   },
   "outputs": [],
   "source": []
  },
  {
   "cell_type": "code",
   "execution_count": null,
   "metadata": {
    "id": "5C8pVgSKAEZd"
   },
   "outputs": [],
   "source": []
  },
  {
   "cell_type": "markdown",
   "metadata": {
    "id": "7VWshpmUBQt2"
   },
   "source": [
    "## distance"
   ]
  },
  {
   "cell_type": "code",
   "execution_count": null,
   "metadata": {
    "colab": {
     "base_uri": "https://localhost:8080/"
    },
    "id": "URZ9BIshAEWq",
    "outputId": "9ca72aed-48ab-4f58-e932-52fe690834e4"
   },
   "outputs": [],
   "source": [
    "import math\n",
    "\n",
    "def euclidean_distance(p1, p2):\n",
    "    return math.sqrt((p2[0] - p1[0])**2 + (p2[1] - p1[1])**2)\n",
    "\n",
    "def city_block_distance(p1, p2):\n",
    "    return abs(p2[0] - p1[0]) + abs(p2[1] - p1[1])\n",
    "\n",
    "def chessboard_distance(p1, p2):\n",
    "    return max(abs(p2[0] - p1[0]), abs(p2[1] - p1[1]))\n",
    "\n",
    "point1 = (1, 2)\n",
    "point2 = (4, 6)\n",
    "\n",
    "euclidean = euclidean_distance(point1, point2)\n",
    "city_block = city_block_distance(point1, point2)\n",
    "chessboard = chessboard_distance(point1, point2)\n",
    "\n",
    "print(f\"Euclidean Distance: {euclidean}\")\n",
    "print(f\"City Block Distance: {city_block}\")\n",
    "print(f\"Chessboard Distance: {chessboard}\")\n"
   ]
  },
  {
   "cell_type": "code",
   "execution_count": null,
   "metadata": {
    "id": "g91oPvB_AEUj"
   },
   "outputs": [],
   "source": []
  },
  {
   "cell_type": "code",
   "execution_count": null,
   "metadata": {
    "id": "h5w8448JAESB"
   },
   "outputs": [],
   "source": []
  },
  {
   "cell_type": "markdown",
   "metadata": {
    "id": "tZzLXZ1eBhCs"
   },
   "source": [
    "## fourier"
   ]
  },
  {
   "cell_type": "code",
   "execution_count": null,
   "metadata": {
    "colab": {
     "base_uri": "https://localhost:8080/",
     "height": 297
    },
    "id": "gGaWDhZtAEPS",
    "outputId": "d95900d5-14f6-4f12-a189-60126c966e8a"
   },
   "outputs": [],
   "source": [
    "import cv2\n",
    "import numpy as np\n",
    "import matplotlib.pyplot as plt\n",
    "\n",
    "img = cv2.imread('a.jpg', cv2.IMREAD_GRAYSCALE)\n",
    "\n",
    "if img is None:\n",
    "    print(\"Error: Image not found or unable to load.\")\n",
    "else:\n",
    "    f = np.fft.fft2(img)\n",
    "    f_shifted = np.fft.fftshift(f)\n",
    "    magnitude_spectrum = np.abs(f_shifted)\n",
    "    magnitude_spectrum_log = np.log(1 + magnitude_spectrum)\n",
    "\n",
    "    plt.figure(figsize=(12, 6))\n",
    "    plt.subplot(1, 2, 1)\n",
    "    plt.title(\"Original Grayscale Image\")\n",
    "    plt.imshow(img, cmap='gray')\n",
    "    plt.axis('off')\n",
    "    plt.subplot(1, 2, 2)\n",
    "    plt.title(\"Fourier Transform (Magnitude Spectrum)\")\n",
    "    plt.imshow(magnitude_spectrum_log, cmap='gray')\n",
    "    plt.axis('off')\n",
    "    plt.show()\n"
   ]
  },
  {
   "cell_type": "code",
   "execution_count": null,
   "metadata": {
    "id": "MqyCBcmzAEMe"
   },
   "outputs": [],
   "source": []
  },
  {
   "cell_type": "code",
   "execution_count": null,
   "metadata": {
    "id": "Klm90JknAEJw"
   },
   "outputs": [],
   "source": []
  },
  {
   "cell_type": "code",
   "execution_count": null,
   "metadata": {
    "id": "QANqIqZyBxw_"
   },
   "outputs": [],
   "source": []
  },
  {
   "cell_type": "markdown",
   "metadata": {
    "id": "h1MaH0BZB1kZ"
   },
   "source": [
    "## histogram equalisation"
   ]
  },
  {
   "cell_type": "code",
   "execution_count": null,
   "metadata": {
    "colab": {
     "base_uri": "https://localhost:8080/",
     "height": 545
    },
    "id": "EwcWv4eJBxuI",
    "outputId": "af1f6962-17ee-49dc-a74b-0ae9f355f994"
   },
   "outputs": [],
   "source": [
    "import cv2\n",
    "import numpy as np\n",
    "import matplotlib.pyplot as plt\n",
    "\n",
    "img = cv2.imread('a.jpg', cv2.IMREAD_GRAYSCALE)\n",
    "\n",
    "if img is None:\n",
    "    print(\"Error: Image not found or unable to load.\")\n",
    "else:\n",
    "    img_equalized = cv2.equalizeHist(img)\n",
    "\n",
    "    plt.figure(figsize=(12, 6))\n",
    "    plt.subplot(2, 2, 1)\n",
    "    plt.title(\"Original Image\")\n",
    "    plt.imshow(img, cmap='gray')\n",
    "    plt.axis('off')\n",
    "\n",
    "    plt.subplot(2, 2, 2)\n",
    "    plt.title(\"Histogram of Original Image\")\n",
    "    plt.hist(img.ravel(), bins=256, range=[0, 256], color='black')\n",
    "    plt.xlim([0, 256])\n",
    "\n",
    "    plt.subplot(2, 2, 3)\n",
    "    plt.title(\"Equalized Image\")\n",
    "    plt.imshow(img_equalized, cmap='gray')\n",
    "    plt.axis('off')\n",
    "\n",
    "    plt.subplot(2, 2, 4)\n",
    "    plt.title(\"Histogram of Equalized Image\")\n",
    "    plt.hist(img_equalized.ravel(), bins=256, range=[0, 256], color='black')\n",
    "    plt.xlim([0, 256])\n",
    "\n",
    "    plt.show()\n"
   ]
  },
  {
   "cell_type": "code",
   "execution_count": null,
   "metadata": {
    "id": "v6togJ7ZBzPD"
   },
   "outputs": [],
   "source": []
  },
  {
   "cell_type": "code",
   "execution_count": null,
   "metadata": {
    "id": "gtAcAK4PCBXq"
   },
   "outputs": [],
   "source": []
  },
  {
   "cell_type": "markdown",
   "metadata": {
    "id": "5FdOJLjFCBzG"
   },
   "source": [
    "## image filter"
   ]
  },
  {
   "cell_type": "code",
   "execution_count": null,
   "metadata": {
    "colab": {
     "base_uri": "https://localhost:8080/",
     "height": 801
    },
    "id": "tWjftv-BCBTX",
    "outputId": "a01a48de-efc4-408c-bc30-c2d93d7d689d"
   },
   "outputs": [],
   "source": [
    "import cv2\n",
    "import numpy as np\n",
    "import matplotlib.pyplot as plt\n",
    "\n",
    "img = cv2.imread('a.jpg', cv2.IMREAD_GRAYSCALE)\n",
    "\n",
    "if img is None:\n",
    "    print(\"Error: Image not found or unable to load.\")\n",
    "else:\n",
    "    mean_filter = cv2.blur(img, (5, 5))\n",
    "    gaussian_filter = cv2.GaussianBlur(img, (5, 5), 0)\n",
    "    median_filter = cv2.medianBlur(img, 5)\n",
    "\n",
    "    plt.figure(figsize=(12, 12))\n",
    "    plt.subplot(2, 2, 1)\n",
    "    plt.title(\"Original Image\")\n",
    "    plt.imshow(img, cmap='gray')\n",
    "    plt.axis('off')\n",
    "\n",
    "    plt.subplot(2, 2, 2)\n",
    "    plt.title(\"Mean Filtered Image\")\n",
    "    plt.imshow(mean_filter, cmap='gray')\n",
    "    plt.axis('off')\n",
    "\n",
    "    plt.subplot(2, 2, 3)\n",
    "    plt.title(\"Gaussian Filtered Image\")\n",
    "    plt.imshow(gaussian_filter, cmap='gray')\n",
    "    plt.axis('off')\n",
    "\n",
    "    plt.subplot(2, 2, 4)\n",
    "    plt.title(\"Median Filtered Image\")\n",
    "    plt.imshow(median_filter, cmap='gray')\n",
    "    plt.axis('off')\n",
    "\n",
    "    plt.show()\n"
   ]
  },
  {
   "cell_type": "code",
   "execution_count": null,
   "metadata": {
    "id": "pQZL3kRsCBRf"
   },
   "outputs": [],
   "source": []
  },
  {
   "cell_type": "code",
   "execution_count": null,
   "metadata": {
    "id": "PeixkY5iCBPd"
   },
   "outputs": [],
   "source": []
  },
  {
   "cell_type": "markdown",
   "metadata": {
    "id": "oQIRF2N3CbFM"
   },
   "source": [
    "## image formation"
   ]
  },
  {
   "cell_type": "code",
   "execution_count": null,
   "metadata": {
    "colab": {
     "base_uri": "https://localhost:8080/"
    },
    "id": "nwnEU2ceCBMX",
    "outputId": "33e576af-6206-4652-c4f4-370c222b9bc9"
   },
   "outputs": [],
   "source": [
    "import numpy as np\n",
    "\n",
    "def project_3d_to_2d(X, Y, Z, fx, fy, cx, cy):\n",
    "    K = np.array([[fx, 0, cx],\n",
    "                  [0, fy, cy],\n",
    "                  [0, 0, 1]])\n",
    "\n",
    "    point_3d = np.array([X, Y, Z, 1])\n",
    "\n",
    "    point_2d_homogeneous = K @ point_3d[:3]\n",
    "\n",
    "    u = point_2d_homogeneous[0] / point_2d_homogeneous[2]\n",
    "    v = point_2d_homogeneous[1] / point_2d_homogeneous[2]\n",
    "\n",
    "    magnification = fx / Z if Z != 0 else float('inf')\n",
    "\n",
    "    return u, v, magnification\n",
    "\n",
    "X, Y, Z = 5, 3, 10\n",
    "fx = 800\n",
    "fy = 800\n",
    "cx = 640\n",
    "cy = 360\n",
    "\n",
    "u, v, magnification = project_3d_to_2d(X, Y, Z, fx, fy, cx, cy)\n",
    "\n",
    "print(f\"Projected 2D coordinates: u = {u}, v = {v}\")\n",
    "print(f\"Magnification: {magnification}\")\n"
   ]
  },
  {
   "cell_type": "code",
   "execution_count": null,
   "metadata": {
    "id": "xdWafheKCBJw"
   },
   "outputs": [],
   "source": []
  },
  {
   "cell_type": "code",
   "execution_count": null,
   "metadata": {
    "id": "W6MB-vyrCBHI"
   },
   "outputs": [],
   "source": []
  },
  {
   "cell_type": "code",
   "execution_count": null,
   "metadata": {
    "id": "Pt2AKeLtCBFH"
   },
   "outputs": [],
   "source": []
  },
  {
   "cell_type": "markdown",
   "metadata": {
    "id": "ufWWE6scCu6l"
   },
   "source": [
    "## kl transform"
   ]
  },
  {
   "cell_type": "code",
   "execution_count": null,
   "metadata": {
    "colab": {
     "base_uri": "https://localhost:8080/",
     "height": 297
    },
    "id": "E-zo16I1CBCk",
    "outputId": "a325a860-5ce1-4cf7-f1cd-8b58a368d85c"
   },
   "outputs": [],
   "source": [
    "import cv2\n",
    "import numpy as np\n",
    "import matplotlib.pyplot as plt\n",
    "from sklearn.decomposition import PCA\n",
    "\n",
    "img = cv2.imread('a.jpg', cv2.IMREAD_GRAYSCALE)\n",
    "\n",
    "if img is None:\n",
    "    print(\"Error: Image not found or unable to load.\")\n",
    "else:\n",
    "    img_reshaped = img.reshape(-1, img.shape[1])\n",
    "\n",
    "    pca = PCA(n_components=50)\n",
    "    pca_result = pca.fit_transform(img_reshaped)\n",
    "\n",
    "    img_reconstructed = pca.inverse_transform(pca_result)\n",
    "\n",
    "    img_reconstructed = img_reconstructed.reshape(img.shape)\n",
    "\n",
    "    plt.figure(figsize=(12, 6))\n",
    "\n",
    "    plt.subplot(1, 2, 1)\n",
    "    plt.title(\"Original Grayscale Image\")\n",
    "    plt.imshow(img, cmap='gray')\n",
    "    plt.axis('off')\n",
    "\n",
    "    plt.subplot(1, 2, 2)\n",
    "    plt.title(\"Reconstructed Image (After KLT with 50 components)\")\n",
    "    plt.imshow(img_reconstructed, cmap='gray')\n",
    "    plt.axis('off')\n",
    "\n",
    "    plt.show()\n"
   ]
  },
  {
   "cell_type": "code",
   "execution_count": null,
   "metadata": {
    "id": "h6OmvSW3CBAf"
   },
   "outputs": [],
   "source": []
  },
  {
   "cell_type": "code",
   "execution_count": null,
   "metadata": {
    "id": "sIEwONiLCA91"
   },
   "outputs": [],
   "source": []
  },
  {
   "cell_type": "code",
   "execution_count": null,
   "metadata": {
    "id": "rNKZaOV-CA7f"
   },
   "outputs": [],
   "source": []
  },
  {
   "cell_type": "markdown",
   "metadata": {
    "id": "dqQGlLTkC3wa"
   },
   "source": [
    "## rgb_to_gray_negative"
   ]
  },
  {
   "cell_type": "code",
   "execution_count": null,
   "metadata": {
    "colab": {
     "base_uri": "https://localhost:8080/",
     "height": 677
    },
    "id": "BEEDhAprCA4s",
    "outputId": "fb9a4d0e-f163-49f8-be02-dd034923a554"
   },
   "outputs": [],
   "source": [
    "import numpy as np\n",
    "import cv2\n",
    "import matplotlib.pyplot as plt\n",
    "\n",
    "def rgb_to_grayscale(image):\n",
    "    gray_image = np.dot(image[...,:3], [0.2989, 0.5870, 0.1140])\n",
    "    return gray_image\n",
    "\n",
    "def grayscale_to_binary(image, threshold=128):\n",
    "    binary_image = np.where(image > threshold, 255, 0)\n",
    "    return binary_image.astype(np.uint8)\n",
    "\n",
    "def rgb_to_negative(image):\n",
    "    negative_image = 255 - image\n",
    "    return negative_image\n",
    "\n",
    "image = cv2.imread('a.jpg')\n",
    "\n",
    "if image is None:\n",
    "    print(\"Error: Unable to load image.\")\n",
    "else:\n",
    "    gray_image = rgb_to_grayscale(image)\n",
    "    binary_image = grayscale_to_binary(gray_image)\n",
    "    negative_image = rgb_to_negative(image)\n",
    "\n",
    "    plt.figure(figsize=(10, 10))\n",
    "\n",
    "    plt.subplot(2, 2, 1)\n",
    "    plt.imshow(cv2.cvtColor(image, cv2.COLOR_BGR2RGB))\n",
    "    plt.title(\"Original Image\")\n",
    "    plt.axis(\"off\")\n",
    "\n",
    "    plt.subplot(2, 2, 2)\n",
    "    plt.imshow(gray_image, cmap='gray')\n",
    "    plt.title(\"Grayscale Image\")\n",
    "    plt.axis(\"off\")\n",
    "\n",
    "    plt.subplot(2, 2, 3)\n",
    "    plt.imshow(binary_image, cmap='gray')\n",
    "    plt.title(\"Binary Image\")\n",
    "    plt.axis(\"off\")\n",
    "\n",
    "    plt.subplot(2, 2, 4)\n",
    "    plt.imshow(cv2.cvtColor(negative_image, cv2.COLOR_BGR2RGB))\n",
    "    plt.title(\"Negative Image\")\n",
    "    plt.axis(\"off\")\n",
    "\n",
    "    plt.show()\n"
   ]
  },
  {
   "cell_type": "code",
   "execution_count": null,
   "metadata": {
    "id": "tfRjDwsYCAz7"
   },
   "outputs": [],
   "source": []
  }
 ],
 "metadata": {
  "colab": {
   "provenance": []
  },
  "kernelspec": {
   "display_name": "Python 3",
   "name": "python3"
  },
  "language_info": {
   "name": "python"
  }
 },
 "nbformat": 4,
 "nbformat_minor": 0
}
